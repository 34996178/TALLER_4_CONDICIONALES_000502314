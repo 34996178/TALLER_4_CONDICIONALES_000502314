{
  "cells": [
    {
      "cell_type": "markdown",
      "metadata": {
        "id": "view-in-github",
        "colab_type": "text"
      },
      "source": [
        "<a href=\"https://colab.research.google.com/github/34996178/TALLER_4_CONDICIONALES_000502314/blob/main/Welcome_To_Colaboratory.ipynb\" target=\"_parent\"><img src=\"https://colab.research.google.com/assets/colab-badge.svg\" alt=\"Open In Colab\"/></a>"
      ]
    },
    {
      "cell_type": "code",
      "source": [],
      "metadata": {
        "id": "abJ4tR_Wgrsy"
      },
      "execution_count": null,
      "outputs": []
    },
    {
      "cell_type": "markdown",
      "source": [
        "taller #4 estructura selectiva doble\n",
        "\n",
        "ana maria rodriguez buelvas - 000502413"
      ],
      "metadata": {
        "id": "AzoT3PT-gsFP"
      }
    },
    {
      "cell_type": "markdown",
      "source": [
        "ejercicio 1"
      ],
      "metadata": {
        "id": "1si_YsEAqYpi"
      }
    },
    {
      "cell_type": "code",
      "source": [
        "#pedir la calificacion al usuario\n",
        "calificacion = float(input(\"ingrese la calificacion (de 0 a 5):\"))\n",
        "\n",
        "#verificar si la calificacion esta dentro del rango permitido\n",
        "if calificacion >= 0 and calificacion <=5:\n",
        " #comprobar si el estudiante aprobo (calificacion mayor o igual a 3)\n",
        " if calificacion >= 3:\n",
        "  print (\"el estudiante aprobó\")\n",
        "else:\n",
        "  print(\"el estudiante no aprobó\")\n",
        "\n",
        ""
      ],
      "metadata": {
        "colab": {
          "base_uri": "https://localhost:8080/"
        },
        "id": "QCNlJm3ChMKt",
        "outputId": "8877726f-9bf3-460f-d10a-3188384d6f9f"
      },
      "execution_count": 9,
      "outputs": [
        {
          "output_type": "stream",
          "name": "stdout",
          "text": [
            "ingrese la calificacion (de 0 a 5):4\n",
            "el estudiante aprobó\n"
          ]
        }
      ]
    },
    {
      "cell_type": "code",
      "source": [],
      "metadata": {
        "id": "fz0fI7C1jHJ_"
      },
      "execution_count": 9,
      "outputs": []
    },
    {
      "cell_type": "markdown",
      "source": [
        "ejercicio 2\n"
      ],
      "metadata": {
        "id": "mWvBtkO0jym7"
      }
    },
    {
      "cell_type": "code",
      "source": [
        "#pedir al usuario que ingrese un numero.\n",
        "numero = float(input(\"ingrese un numero: \"))\n",
        "\n",
        "#verificar si el numero es positivo, negativo o cero\n",
        "if numero > 0:\n",
        "  print(\"el numero es positivo\")\n",
        "if numero <0:\n",
        "  print(\"el numero es negativo\")\n",
        "if numero ==0:\n",
        "  print(\"el numero es igual a cero\")"
      ],
      "metadata": {
        "colab": {
          "base_uri": "https://localhost:8080/"
        },
        "id": "ioEdk9Y5j1Dz",
        "outputId": "36a18805-57b3-442c-f83d-85d5902bea6f"
      },
      "execution_count": 20,
      "outputs": [
        {
          "output_type": "stream",
          "name": "stdout",
          "text": [
            "ingrese un numero: 2\n",
            "el numero es positivo\n"
          ]
        }
      ]
    },
    {
      "cell_type": "code",
      "source": [],
      "metadata": {
        "id": "eVh9tlLvj19Y"
      },
      "execution_count": 10,
      "outputs": []
    },
    {
      "cell_type": "markdown",
      "source": [
        "ejercicio 3\n"
      ],
      "metadata": {
        "id": "Rglc8jt9lSvX"
      }
    },
    {
      "cell_type": "code",
      "source": [
        "#pedir al usuario que ingrese  una contraseña\n",
        "contraseña = input(\"ingrese la contraseña: \")\n",
        "\n",
        "#verifica si la contraseña es valida\n",
        "if contraseña == \"python123\" :\n",
        "  print(\"contraseña valida\")\n",
        "else :\n",
        "  print(\"contraseña incorrecta\")"
      ],
      "metadata": {
        "colab": {
          "base_uri": "https://localhost:8080/"
        },
        "id": "Lk8t9qezlUdf",
        "outputId": "4c51dafd-b79b-4ec5-a3e8-02d0723491f4"
      },
      "execution_count": 11,
      "outputs": [
        {
          "output_type": "stream",
          "name": "stdout",
          "text": [
            "ingrese la contraseña: analinda123\n",
            "contraseña incorrecta\n"
          ]
        }
      ]
    },
    {
      "cell_type": "code",
      "source": [],
      "metadata": {
        "id": "Ro9-3sj-mlf-"
      },
      "execution_count": null,
      "outputs": []
    },
    {
      "cell_type": "markdown",
      "source": [
        "ejercicio 4"
      ],
      "metadata": {
        "id": "QOA8DaUFmqF6"
      }
    },
    {
      "cell_type": "code",
      "source": [
        "#pedir al usuario que ingrese un numero\n",
        "numero =int(input(\"ingrese un numero: \"))\n",
        "\n",
        "#verificar si el numero es par o impar\n",
        "if numero % 2 == 0:\n",
        "  print(\"el numero es par\")\n",
        "else :\n",
        "  print(\"el numero es impar\")\n",
        "\n"
      ],
      "metadata": {
        "colab": {
          "base_uri": "https://localhost:8080/"
        },
        "id": "2QdQh3YVm1Ho",
        "outputId": "91d21934-2964-4596-800f-2fa0c8580ec6"
      },
      "execution_count": 12,
      "outputs": [
        {
          "output_type": "stream",
          "name": "stdout",
          "text": [
            "ingrese un numero: 18\n",
            "el numero es par\n"
          ]
        }
      ]
    },
    {
      "cell_type": "code",
      "source": [],
      "metadata": {
        "id": "VA7X-poYm2hR"
      },
      "execution_count": null,
      "outputs": []
    },
    {
      "cell_type": "markdown",
      "source": [
        "ejercicio 5"
      ],
      "metadata": {
        "id": "rDSYeoGRoX7o"
      }
    },
    {
      "cell_type": "code",
      "source": [
        "#pedir al usuario ingresar cinco números\n",
        "numero1 = float(input(\"Ingrese el primer número: \"))\n",
        "numero2 = float(input(\"Ingrese el segundo número: \"))\n",
        "numero3 = float(input(\"Ingrese el tercer número: \"))\n",
        "numero4 = float(input(\"Ingrese el cuarto número: \"))\n",
        "numero5 = float(input(\"Ingrese el quinto número: \"))\n",
        "\n",
        "# Determinar el número mayor utilizando una estructura selectiva doble (if-else)\n",
        "if numero1 >= numero2 and numero1 >= numero3 and numero1 >= numero4 and numero1 >= numero5:\n",
        "    mayor = numero1\n",
        "if numero2 >= numero1 and numero2 >= numero3 and numero2 >= numero4 and numero2 >= numero5:\n",
        "    mayor = numero2\n",
        "if numero3 >= numero1 and numero3 >= numero2 and numero3 >= numero4 and numero3 >= numero5:\n",
        "    mayor = numero3\n",
        "if numero4 >= numero1 and numero4 >= numero2 and numero4 >= numero3 and numero4 >= numero5:\n",
        "    mayor = numero4\n",
        "else:\n",
        "    mayor = numero5\n",
        "\n",
        "# Imprimir el número mayor\n",
        "print(f\"El número mayor es: {mayor}\")\n"
      ],
      "metadata": {
        "colab": {
          "base_uri": "https://localhost:8080/"
        },
        "id": "Tft7y_UroaFl",
        "outputId": "a53d2ed7-f715-4de0-96e0-ee9285f69525"
      },
      "execution_count": 21,
      "outputs": [
        {
          "output_type": "stream",
          "name": "stdout",
          "text": [
            "Ingrese el primer número: 2\n",
            "Ingrese el segundo número: 6\n",
            "Ingrese el tercer número: 9\n",
            "Ingrese el cuarto número: 8\n",
            "Ingrese el quinto número: 18\n",
            "El número mayor es: 18.0\n"
          ]
        }
      ]
    },
    {
      "cell_type": "code",
      "source": [],
      "metadata": {
        "id": "q3U8AEJFoalP"
      },
      "execution_count": null,
      "outputs": []
    },
    {
      "cell_type": "markdown",
      "source": [
        "ejercicio 6"
      ],
      "metadata": {
        "id": "sAehrh-lqCAz"
      }
    },
    {
      "cell_type": "code",
      "source": [
        "# Solicitar al usuario ingresar una edad\n",
        "edad = int(input(\"Ingrese su edad: \"))\n",
        "\n",
        "# Determinar en qué categoría se encuentra la persona\n",
        "if edad >= 0 and edad <= 12:\n",
        "    categoria = \"Niño\"\n",
        "if edad >= 13 and edad <= 19:\n",
        "    categoria = \"Adolescente\"\n",
        "if edad >= 20 and edad <= 64:\n",
        "    categoria = \"Adulto\"\n",
        "else:\n",
        "    categoria = \"Adulto Mayor\"\n",
        "\n",
        "# Imprimir la categoría\n",
        "print(f\"Usted está en la categoría: {categoria}\")\n"
      ],
      "metadata": {
        "colab": {
          "base_uri": "https://localhost:8080/"
        },
        "id": "SguB3FYfqEPq",
        "outputId": "35af383d-975b-44d6-85ee-b6052f1a33ed"
      },
      "execution_count": 26,
      "outputs": [
        {
          "output_type": "stream",
          "name": "stdout",
          "text": [
            "Ingrese su edad: 48\n",
            "Usted está en la categoría: Adulto\n"
          ]
        }
      ]
    },
    {
      "cell_type": "code",
      "source": [],
      "metadata": {
        "id": "Z69bsN8mqOpo"
      },
      "execution_count": 26,
      "outputs": []
    }
  ],
  "metadata": {
    "colab": {
      "name": "Welcome To Colaboratory",
      "provenance": [],
      "include_colab_link": true
    },
    "kernelspec": {
      "display_name": "Python 3",
      "name": "python3"
    }
  },
  "nbformat": 4,
  "nbformat_minor": 0
}